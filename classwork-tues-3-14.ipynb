{
 "cells": [
  {
   "cell_type": "markdown",
   "metadata": {},
   "source": [
    "1- did u find any cool conclusions?"
   ]
  },
  {
   "cell_type": "markdown",
   "metadata": {},
   "source": [
    "2-did u find any cool conclusions? what inspired you to chose your speices of choice?"
   ]
  },
  {
   "cell_type": "markdown",
   "metadata": {},
   "source": [
    "3-what did you learn? what are your furture directions?"
   ]
  },
  {
   "cell_type": "markdown",
   "metadata": {},
   "source": [
    "4-did you learn anything awesome? what are your furture directions?"
   ]
  },
  {
   "cell_type": "markdown",
   "metadata": {},
   "source": [
    "5-why did you choose this specific tree? "
   ]
  },
  {
   "cell_type": "markdown",
   "metadata": {},
   "source": [
    "6- how would working with other graphing packages changs ur future directions?"
   ]
  },
  {
   "cell_type": "markdown",
   "metadata": {},
   "source": [
    "7-what are some factors that could be influencing the diversity of your species?"
   ]
  },
  {
   "cell_type": "markdown",
   "metadata": {},
   "source": [
    "8- how did the package that u explored make your analysis unique versus other packages that we learned?"
   ]
  },
  {
   "cell_type": "markdown",
   "metadata": {},
   "source": [
    "9-were u able to find any comparisons between birds and mammals? how r going to show this comaprison in graph form?"
   ]
  },
  {
   "cell_type": "markdown",
   "metadata": {},
   "source": [
    "10-me"
   ]
  },
  {
   "cell_type": "markdown",
   "metadata": {},
   "source": [
    "11- was everyone under the metabolic number?"
   ]
  },
  {
   "cell_type": "markdown",
   "metadata": {},
   "source": [
    "12- how amny times did athero evolve in humans? how did u chose the species per order?"
   ]
  },
  {
   "cell_type": "markdown",
   "metadata": {},
   "source": [
    "13- what is the main goal of ur project? what question r u trying to answer?"
   ]
  },
  {
   "cell_type": "markdown",
   "metadata": {},
   "source": [
    "14-were u able to find ur species of choice in your graph eventhough the dot is small"
   ]
  },
  {
   "cell_type": "markdown",
   "metadata": {},
   "source": [
    "15- how did the ducks move? they migrated?"
   ]
  },
  {
   "cell_type": "code",
   "execution_count": null,
   "metadata": {
    "collapsed": true
   },
   "outputs": [],
   "source": []
  }
 ],
 "metadata": {
  "kernelspec": {
   "display_name": "Python 3",
   "language": "python",
   "name": "python3"
  },
  "language_info": {
   "codemirror_mode": {
    "name": "ipython",
    "version": 3
   },
   "file_extension": ".py",
   "mimetype": "text/x-python",
   "name": "python",
   "nbconvert_exporter": "python",
   "pygments_lexer": "ipython3",
   "version": "3.5.2"
  }
 },
 "nbformat": 4,
 "nbformat_minor": 2
}
