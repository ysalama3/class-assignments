{
 "cells": [
  {
   "cell_type": "markdown",
   "metadata": {},
   "source": [
    "# Exploring a data set of fossil occurrences"
   ]
  },
  {
   "cell_type": "markdown",
   "metadata": {},
   "source": [
    "We want to know the earliest and latest appearance of the fossil. Find first and last occurrence of every species!"
   ]
  },
  {
   "cell_type": "code",
   "execution_count": 6,
   "metadata": {
    "collapsed": true
   },
   "outputs": [],
   "source": [
    "## open the file\n",
    "\n",
    "infile = \"/home/eeb177-student/Desktop/eeb-177/class-assignments/canids/pbdbformatted.csv\"\n",
    "with open(infile, 'r') as ff:\n",
    "    canids_recs = ff.readlines()"
   ]
  },
  {
   "cell_type": "code",
   "execution_count": 14,
   "metadata": {
    "collapsed": false
   },
   "outputs": [],
   "source": [
    "# use default dict\n",
    "from collections import defaultdict\n",
    "species_ranges = defaultdict(list)\n",
    "\n",
    "\n",
    "# make a dict\n",
    "for line in canids_recs:\n",
    "    species = line.split(\",\")[5]\n",
    "    minage = line.split('\",\"')[10]\n",
    "    maxage = line.split('\",\"')[11]\n",
    "    mean_age = (float(minage) + float(maxage))/2\n",
    "    #print(mean_age)\n",
    "    \n",
    "    species_ranges[species].append(mean_age) # add speices as keyes and mean ages as elements tot he list of ages\n",
    "    "
   ]
  },
  {
   "cell_type": "code",
   "execution_count": 26,
   "metadata": {
    "collapsed": false
   },
   "outputs": [],
   "source": [
    "output = open(\"canid-ranges.csv\", \"w\")\n",
    "\n",
    "#get oldest and youngest\n",
    "#species_ranges.values()\n",
    "for key in species_ranges.keys():\n",
    "    ages = species_ranges[key]\n",
    "    minage = min(ages)\n",
    "    maxage = max(ages)\n",
    "    genus = key.split(\" \")[0]\n",
    "    species = key\n",
    "    outline= \"{},{},{},{}\\n\".format(genus, species, minage, maxage)\n",
    "    output.write(outline)\n",
    "    #print(genus, key, minage, maxage)\n",
    "    #output.write(genus + \",\" + key + \", \")"
   ]
  },
  {
   "cell_type": "code",
   "execution_count": null,
   "metadata": {
    "collapsed": true
   },
   "outputs": [],
   "source": []
  }
 ],
 "metadata": {
  "kernelspec": {
   "display_name": "Python 3",
   "language": "python",
   "name": "python3"
  },
  "language_info": {
   "codemirror_mode": {
    "name": "ipython",
    "version": 3
   },
   "file_extension": ".py",
   "mimetype": "text/x-python",
   "name": "python",
   "nbconvert_exporter": "python",
   "pygments_lexer": "ipython3",
   "version": "3.5.2"
  }
 },
 "nbformat": 4,
 "nbformat_minor": 2
}
