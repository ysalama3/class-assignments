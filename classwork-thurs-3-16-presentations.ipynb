{
 "cells": [
  {
   "cell_type": "markdown",
   "metadata": {},
   "source": [
    "1- why do you think dinousours were few in Africa although thats where they originated from?"
   ]
  },
  {
   "cell_type": "markdown",
   "metadata": {},
   "source": [
    "2- how would changing brain size change survivorship?"
   ]
  },
  {
   "cell_type": "markdown",
   "metadata": {},
   "source": [
    "3-what does the x axis repesent?"
   ]
  },
  {
   "cell_type": "markdown",
   "metadata": {},
   "source": [
    "note: look at relationship between raw richness and speciation and exticntion rates which arent the same."
   ]
  },
  {
   "cell_type": "markdown",
   "metadata": {},
   "source": [
    "4- why are they diagnosed at 3 years the most?"
   ]
  },
  {
   "cell_type": "markdown",
   "metadata": {},
   "source": [
    "5- wow the length versus time graphs are really cool! what correlation do u expect with plants?"
   ]
  },
  {
   "cell_type": "markdown",
   "metadata": {},
   "source": [
    "6- why did u choose pie charts?"
   ]
  },
  {
   "cell_type": "markdown",
   "metadata": {},
   "source": [
    "7-how are u going to look at the differences in richness and speciation?"
   ]
  },
  {
   "cell_type": "markdown",
   "metadata": {},
   "source": [
    "8- what package did you use to get the tree? did you only use min and max?"
   ]
  },
  {
   "cell_type": "markdown",
   "metadata": {},
   "source": [
    "9- why do the birds not migrate or travel widely?"
   ]
  },
  {
   "cell_type": "markdown",
   "metadata": {},
   "source": [
    "10-why is there a gap in the middle?"
   ]
  },
  {
   "cell_type": "markdown",
   "metadata": {},
   "source": [
    "11- why is extinction rate increasing?"
   ]
  },
  {
   "cell_type": "markdown",
   "metadata": {},
   "source": [
    "12- do you think running pyrate longer will give you different results? why do you think there is a spike in extinction?"
   ]
  },
  {
   "cell_type": "code",
   "execution_count": null,
   "metadata": {
    "collapsed": true
   },
   "outputs": [],
   "source": []
  }
 ],
 "metadata": {
  "kernelspec": {
   "display_name": "Python 3",
   "language": "python",
   "name": "python3"
  },
  "language_info": {
   "codemirror_mode": {
    "name": "ipython",
    "version": 3
   },
   "file_extension": ".py",
   "mimetype": "text/x-python",
   "name": "python",
   "nbconvert_exporter": "python",
   "pygments_lexer": "ipython3",
   "version": "3.5.2"
  }
 },
 "nbformat": 4,
 "nbformat_minor": 2
}
