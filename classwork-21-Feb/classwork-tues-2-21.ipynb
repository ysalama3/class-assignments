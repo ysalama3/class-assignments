{
 "cells": [
  {
   "cell_type": "markdown",
   "metadata": {},
   "source": [
    "**Classwork 2-21**"
   ]
  },
  {
   "cell_type": "markdown",
   "metadata": {},
   "source": [
    " Downloaded and extracted http://ctfs.si.edu/webatlas/datasets/cocoli/cocoli.zip"
   ]
  },
  {
   "cell_type": "markdown",
   "metadata": {},
   "source": [
    "**Guided exploration of the data**\n",
    "-what does each row in cocoli.txt represent?The COCOLI file contains a single record for each tree censused using a species code                                                         \n",
    "-what does wach row in cocolisp.txt represent? each row shows spcode, genus, species, and family\n",
    "\n",
    "-I directly extracted/unzipped the file but could have also used the command see"
   ]
  },
  {
   "cell_type": "markdown",
   "metadata": {},
   "source": [
    "**-what does the entry in the column multi2 refer to?**                                  \n",
    "Number of stems the plant has (1997) at 1.3m. Most of the plants will have 1 stem. The codes are the same as those for dbh: -1 indicates tree died,-2 indicates tree not entered census yet,-9 indicates measurement is missing (unknown).                                         \n",
    "**-what does the entry in the column dbh2 refer to?**\n",
    "Recorded in mm, all plants should have a dbh of 10 or above, except in the following cases:0 indicates that the plant had a dbh of 10mm or greater in a previous census, then probably broke off and is still alive in this census, but does not yet measure 10mm (resprout),-1 indicates that the plant is dead,-2 indicates that the plant had not yet entered the census,-9 indicates that the plant was erroneously missed and not measured (missing).In the case of a plant with multiple stems, this dbh indicates the dbh of the largest stem.Dbh 1 is the measurement from census 1 Dbh 2 refers to the measurement from census 2. Dbh 3 refers to the measurement from census 3.                                                                                    \n",
    "**-how can we find the genus and species name of this record?** use grep and the species name  \n",
    "**-what is the genus and species name of this record?**use grep and the species name          \n",
    "** what happened with the negative sign?** tree is dead!                                      \n",
    "\n",
    "** Guided exploration of the data? given your knowledge of the dataset, brainstorm somei interesting questions that u might be able to answer with these data.** relationship between tree growth and water abundance, change in growth over time 1997-1994 and 1997-1998, which locations have trees with highest growth, is there variation in growth rate due to water maybe, which species have the highest rate of growth\n",
    "\n",
    "1- species most rich genus? sed 's/\\s/,/g'cocoli | cut -d \"'\" -f 2| uniq -c| sort -n| wc -l 99"
   ]
  },
  {
   "cell_type": "markdown",
   "metadata": {},
   "source": [
    "**Guided explorationof data**\n",
    "which individual has the highest yearly RGR\n",
    "build dictionary"
   ]
  }
 ],
 "metadata": {
  "anaconda-cloud": {},
  "kernelspec": {
   "display_name": "Python [conda root]",
   "language": "python",
   "name": "conda-root-py"
  },
  "language_info": {
   "codemirror_mode": {
    "name": "ipython",
    "version": 3
   },
   "file_extension": ".py",
   "mimetype": "text/x-python",
   "name": "python",
   "nbconvert_exporter": "python",
   "pygments_lexer": "ipython3",
   "version": "3.5.2"
  }
 },
 "nbformat": 4,
 "nbformat_minor": 2
}
